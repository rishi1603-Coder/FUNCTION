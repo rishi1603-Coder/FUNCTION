{
  "nbformat": 4,
  "nbformat_minor": 0,
  "metadata": {
    "colab": {
      "provenance": []
    },
    "kernelspec": {
      "name": "python3",
      "display_name": "Python 3"
    },
    "language_info": {
      "name": "python"
    }
  },
  "cells": [
    {
      "cell_type": "code",
      "execution_count": null,
      "metadata": {
        "id": "Z7Z9K8q79LO1"
      },
      "outputs": [],
      "source": [
        "1. What is the difference between a function and a method in Python?\n",
        "function:\n",
        "A function is a standalone block of code that is defined independently and can be called directly by its name\n",
        "t operates on data passed to it as arguments and typically returns a value or performs an action\n",
        "Functions are not associated with any particular object or class and are used for general-purpose tasks.\n",
        "Method:\n",
        "A method is a function that is defined within a class and is inherently associated with objects (instances) of that class.\n",
        "It is called on an object and can access and manipulate the objects attributes (data) and other methods.\n",
        "Methods are essential for object-oriented programming, allowing objects to exhibit behaviors and interact with their internal state."
      ]
    },
    {
      "cell_type": "markdown",
      "source": [
        "2. Explain the concept of function arguments and parameters in Python.\n",
        "\n",
        "ARGUMENTS:\n",
        "Arguments are the actual values that are passed to a function when it is called Arugument.\n",
        "\n",
        "parameters:\n",
        "A parameter is the variable defined within the parentheses when we declare a function.A parameter is a labeled box in a function's design, waiting for something to be put inside."
      ],
      "metadata": {
        "id": "ldhTtU_E-xHV"
      }
    },
    {
      "cell_type": "markdown",
      "source": [
        "3. What are the different ways to define and call a function in Python\n",
        "\n",
        "Defining a Function in Python\n",
        "Functions in Python are defined using the def keyword, followed by the function name, parentheses () If the function takes any arguments, they are included inside the parentheses. The code inside a function must be indented after the colon to indicate it belongs to that function.\n",
        "\n",
        "Calling a Function\n",
        "To call a function in Python, we definitely type the name of the function observed via parentheses (). If the function takes any arguments, they may be covered within the parentheses"
      ],
      "metadata": {
        "id": "bRqJ1GDaAQ0F"
      }
    },
    {
      "cell_type": "markdown",
      "source": [
        "4.What is the purpose of the `return` statement in a Python function\n",
        "\n",
        "Functions in Python are defined using the def keyword  followed by the function name  a set of parentheses () which can contain parameters, and a colon  The A code block within the function must be indented. An optional return statement can be used to send a value back to the caller.\n",
        "\n"
      ],
      "metadata": {
        "id": "MupWTxyxCwIb"
      }
    },
    {
      "cell_type": "markdown",
      "source": [
        "5.What are iterators in Python and how do they differ from iterables\n",
        "\n",
        "A Python iterator is an object that allows sequential traversal through elements in a collection, such as lists, tuples, dictionaries, and sets. Iterators enable memory-efficients.\n",
        "Iterable is an object, that one can iterate over. It generates an Iterator when passed to iter()."
      ],
      "metadata": {
        "id": "QhkDStI8EeM1"
      }
    },
    {
      "cell_type": "markdown",
      "source": [
        "6. Explain the concept of generators in Python and how they are defined.\n",
        "\n",
        "Generators in Python are a special type of iterable that produce values lazily, one at a time, rather than storing all values in memory simultaneously. They are particularly useful for working with large datasets\n",
        "\n",
        "Why Do We Need Generators?\n",
        "  1.Memory Efficient : Handle large data without loading everything into memory.\n",
        "  2.No List Overhead : Yield items one by one.\n",
        "  3.Lazy Evaluation : Compute values only when needed, improving performance.\n",
        "  4.Support Infinite Sequences : Ideal for generating unbounded data like Fibonacci series.\n",
        "  5.Pipeline Processing : Chain generators to process data in stages efficiently.\n"
      ],
      "metadata": {
        "id": "a3-MP-1KEiLX"
      }
    },
    {
      "cell_type": "markdown",
      "source": [
        "7.What are the advantages of using generators over regular functions?\n",
        "\n",
        "Memory Efficiency:\n",
        "Generators produce values on-the-fly, yielding them one at a time instead of generating and storing an entire sequence in memory. This is crucial when working with large datasets, preventing memory exhaustions.\n",
        "\n",
        "Lazy Evaluation:    \n",
        "Values are computed and yielded only when explicitly requested, not all at once. This \"lazy\" approach improves performance and reduces computational overhead, especially when only a subset of the sequence is needed or when the entire sequence might not be processed.\n",
        "\n",
        "Handling Infinite Sequences:     \n",
        "Generators can represent and process infinite sequences (e.g., Fibonacci sequence) without attempting to store all elements, which is impossible with regular functions that return complete data structures.\n",
        "\n",
        "Pipelining and Data Processing:    \n",
        "Generators facilitate the creation of efficient data processing pipelines. Multiple generators can be chained together, with each one processing a segment of data before passing it to the next stage, leading to optimized resource utilization.\n",
        "\n",
        "Improved Readability and Maintainability:    \n",
        "For complex iterative processes, generators can encapsulate the iteration logic within a function using yield, making the code more concise and easier to understand compared to managing state manually within a regular function."
      ],
      "metadata": {
        "id": "YyGB0a-gEiO2"
      }
    },
    {
      "cell_type": "markdown",
      "source": [
        "8. What is a lambda function in Python and when is it typically used?\n",
        "\n",
        "A lambda function in Python is a small, anonymous function defined using the lambda keyword. Unlike regular functions defined with def, lambda functions are restricted to a single expression, which is implicitly returned.\n",
        "The power of lambda is better shown when you use them as an anonymous function inside another function.\n",
        "\n",
        "typically used:\n",
        "Higher-order functions:\n",
        "Lambda functions are frequently used as arguments to higher-order functions like map(), filter(), and sorted(), which take functions as input.\n",
        "map(): Applies a given function to each item of an iterable.\n",
        "filter(): Constructs an iterator from elements of an iterable for which a function returns true.\n",
        "sorted(): Returns a new sorted list from the items in an iterable, often with a key argument for custom sorting.\n",
        "Event handling in GUI applications:\n",
        "For simple callbacks or event handlers where a full function definition isn't required"
      ],
      "metadata": {
        "id": "KQTxxjngIPCb"
      }
    },
    {
      "cell_type": "markdown",
      "source": [
        "9. Explain the purpose and usage of the `map()` function in Python\n",
        "\n",
        "The map() function in Python is a built-in higher-order function used to apply a specified function to each item in an iterable (such as a list, tuple, or set) and return an iterator containing the results.\n",
        "usage of the map:\n",
        "creates a new array populated with the results of calling a provided function on every element in the calling array"
      ],
      "metadata": {
        "id": "FIltw_5lI9Nh"
      }
    },
    {
      "cell_type": "markdown",
      "source": [
        "10. What is the difference between `map()`, `reduce()`, and `filter()` functions in Python?\n",
        "\n",
        "\n",
        "MAP function to each element of iterator and collects result.\n",
        "\n",
        "FILTER applies function to each element of iterator and collect those elements for which function returns true. For this function need to return boolean value.\n",
        "\n",
        "REDUCE applies rolling computation to sequential pair of elements in iterator. Initially it takes two elements from iterator in sequence, applies function, collect result, then take next element in sequence from iterator, applies function and repeat this untill list has single value."
      ],
      "metadata": {
        "id": "EextpqJbuNls"
      }
    },
    {
      "cell_type": "markdown",
      "source": [
        "11.Using pen & Paper write the internal mechanism for sum operation using  reduce function on this given\n",
        "list:[47,11,42,13];\n",
        "\n",
        "from functools import reduce\n",
        "reduce(lambda x, y: x + y, [47, 11, 42, 13])\n"
      ],
      "metadata": {
        "id": "aSwdBnICtI-7"
      }
    },
    {
      "cell_type": "code",
      "source": [],
      "metadata": {
        "id": "ko0OPaQjvDXH"
      },
      "execution_count": null,
      "outputs": []
    },
    {
      "cell_type": "markdown",
      "source": [
        "#pratical questions\n"
      ],
      "metadata": {
        "id": "SoYUsZPxvFE_"
      }
    },
    {
      "cell_type": "markdown",
      "source": [
        "1. Write a Python function that takes a list of numbers as input and returns the sum of all even numbers in\n",
        "the list.\n",
        "\n"
      ],
      "metadata": {
        "id": "ib5XQG6ztuAU"
      }
    },
    {
      "cell_type": "code",
      "source": [
        "def sum_even_numbers(numbers_list):\n",
        "    even_sum = 0\n",
        "    for number in numbers_list:\n",
        "        if number % 2 == 0:\n",
        "            even_sum += number\n",
        "    return even_sum"
      ],
      "metadata": {
        "id": "gAVcZT0auFCk"
      },
      "execution_count": 5,
      "outputs": []
    },
    {
      "cell_type": "markdown",
      "source": [
        " 2.Create a Python function that accepts a string and returns the reverse of that string"
      ],
      "metadata": {
        "id": "JVLFjrNDvEW4"
      }
    },
    {
      "cell_type": "code",
      "source": [
        "def reverse_string(s):\n",
        "\n",
        "    return s[::-1]\n",
        "print(reverse_string(\"Python\"))\n"
      ],
      "metadata": {
        "colab": {
          "base_uri": "https://localhost:8080/"
        },
        "id": "2fG8kwPFu_Wu",
        "outputId": "867fca12-1636-4b38-d137-8e29c6c85016"
      },
      "execution_count": 10,
      "outputs": [
        {
          "output_type": "stream",
          "name": "stdout",
          "text": [
            "nohtyP\n"
          ]
        }
      ]
    },
    {
      "cell_type": "markdown",
      "source": [
        "3.Implement a Python function that takes a list of integers and returns a new list containing the squares of\n",
        "each number.\n"
      ],
      "metadata": {
        "id": "UmitOncKw9Kh"
      }
    },
    {
      "cell_type": "code",
      "source": [
        "def square_numbers(input_list):\n",
        "\n",
        "  squared_list = [number ** 2 for number in input_list]\n",
        "  return squared_list\n",
        "\n",
        "my_numbers = [1, 2, 3, 4, 5]\n",
        "squared_results = square_numbers(my_numbers)\n",
        "print(squared_results)"
      ],
      "metadata": {
        "colab": {
          "base_uri": "https://localhost:8080/"
        },
        "id": "9bOhvcOkxB_o",
        "outputId": "3b144df0-8a79-46bb-9ad0-9834af2dc80d"
      },
      "execution_count": 12,
      "outputs": [
        {
          "output_type": "stream",
          "name": "stdout",
          "text": [
            "[1, 4, 9, 16, 25]\n"
          ]
        }
      ]
    },
    {
      "cell_type": "markdown",
      "source": [
        "4. Write a Python function that checks if a given number is prime or not from 1 to 200.\n",
        "\n"
      ],
      "metadata": {
        "id": "VOLVCcD6xjbb"
      }
    },
    {
      "cell_type": "code",
      "source": [
        "\n",
        "def is_prime(n):\n",
        "\n",
        "    if n < 2:\n",
        "        return False\n",
        "    for i in range(2, int(n**0.5) + 1):\n",
        "        if n % i == 0:\n",
        "            return False\n",
        "    return True\n",
        "\n",
        "\n",
        "# Check primes from 1 to 200\n",
        "for num in range(1, 201):\n",
        "    if is_prime(num):\n",
        "        print(num, end=\" \")\n"
      ],
      "metadata": {
        "colab": {
          "base_uri": "https://localhost:8080/"
        },
        "id": "ZNvC2d4F0T5J",
        "outputId": "4f22594d-2105-4d6d-8804-bfb8b63fab3a"
      },
      "execution_count": 14,
      "outputs": [
        {
          "output_type": "stream",
          "name": "stdout",
          "text": [
            "2 3 5 7 11 13 17 19 23 29 31 37 41 43 47 53 59 61 67 71 73 79 83 89 97 101 103 107 109 113 127 131 137 139 149 151 157 163 167 173 179 181 191 193 197 199 "
          ]
        }
      ]
    },
    {
      "cell_type": "markdown",
      "source": [
        "5.Create an iterator class in Python that generates the Fibonacci sequence up to a specified number of\n",
        "terms."
      ],
      "metadata": {
        "id": "f5ksLAa-09HB"
      }
    },
    {
      "cell_type": "code",
      "source": [
        "class FibonacciIterator:\n",
        "    def __init__(self, n_terms):\n",
        "        self.n_terms = n_terms\n",
        "        self.count = 0\n",
        "        self.a, self.b = 0, 1\n",
        "\n",
        "    def __iter__(self):\n",
        "        return self\n",
        "\n",
        "    def __next__(self):\n",
        "        if self.count >= self.n_terms:\n",
        "            raise StopIteration\n",
        "        if self.count == 0:\n",
        "            self.count += 1\n",
        "            return 0\n",
        "        elif self.count == 1:\n",
        "            self.count += 1\n",
        "            return 1\n",
        "        else:\n",
        "            self.a, self.b = self.b, self.a + self.b\n",
        "            self.count += 1\n",
        "            return self.b\n",
        "\n",
        "\n",
        "fib = FibonacciIterator(10)\n",
        "for num in fib:\n",
        "    print(num, end=\" \")\n"
      ],
      "metadata": {
        "colab": {
          "base_uri": "https://localhost:8080/"
        },
        "id": "Upkcn7wq07Gl",
        "outputId": "a27605a0-a75b-43df-a07e-8c21dad92a2e"
      },
      "execution_count": 15,
      "outputs": [
        {
          "output_type": "stream",
          "name": "stdout",
          "text": [
            "0 1 1 2 3 5 8 13 21 34 "
          ]
        }
      ]
    },
    {
      "cell_type": "markdown",
      "source": [
        "6.Write a generator function in Python that yields the powers of 2 up to a given exponent.\n",
        "\n",
        "\n"
      ],
      "metadata": {
        "id": "HA0KWsJw1Qwy"
      }
    },
    {
      "cell_type": "code",
      "source": [
        "def powers_of_two(max_exponent):\n",
        "    for exp in range(max_exponent + 1):\n",
        "        yield 2 ** exp\n",
        "\n",
        "\n",
        "\n",
        "for num in powers_of_two(5):\n",
        "    print(num, end=\" \")"
      ],
      "metadata": {
        "colab": {
          "base_uri": "https://localhost:8080/"
        },
        "id": "G64aPaWN1rCw",
        "outputId": "6693e84c-9ba4-4976-e575-9029da9e21f8"
      },
      "execution_count": 16,
      "outputs": [
        {
          "output_type": "stream",
          "name": "stdout",
          "text": [
            "1 2 4 8 16 32 "
          ]
        }
      ]
    },
    {
      "cell_type": "markdown",
      "source": [
        "7.Implement a generator function that reads a file line by line and yields each line as a string."
      ],
      "metadata": {
        "id": "KP09MEml15us"
      }
    },
    {
      "cell_type": "code",
      "source": [
        "def read_file_line_by_line(file_path):\n",
        "\n",
        "    with open(file_path, \"r\") as file:\n",
        "        for line in file:\n",
        "            yield line.strip()\n",
        "\n",
        "for line in read_file_line_by_line(\"sample.txt\"):\n",
        "    print(line)\n"
      ],
      "metadata": {
        "id": "xdZN73qs18N9"
      },
      "execution_count": null,
      "outputs": []
    },
    {
      "cell_type": "markdown",
      "source": [
        "8. Use a lambda function in Python to sort a list of tuples based on the second element of each tuple.\n",
        "\n"
      ],
      "metadata": {
        "id": "4C1kHRg22Pam"
      }
    },
    {
      "cell_type": "code",
      "source": [
        "\n",
        "data = [(1, 4), (3, 1), (5, 9), (2, 6)]\n",
        "\n",
        "\n",
        "sorted_data = sorted(data, key=lambda x: x[1])\n",
        "\n",
        "print(sorted_data)\n"
      ],
      "metadata": {
        "colab": {
          "base_uri": "https://localhost:8080/"
        },
        "id": "yNnSwog62bhA",
        "outputId": "d2f08bc3-58ee-40f3-c619-b78a8a7b133b"
      },
      "execution_count": 17,
      "outputs": [
        {
          "output_type": "stream",
          "name": "stdout",
          "text": [
            "[(3, 1), (1, 4), (2, 6), (5, 9)]\n"
          ]
        }
      ]
    },
    {
      "cell_type": "markdown",
      "source": [
        "9. Write a Python program that uses map() to convert a list of temperatures from Celsius to Fahrenheit."
      ],
      "metadata": {
        "id": "MK30s2xM2fIW"
      }
    },
    {
      "cell_type": "code",
      "source": [
        "\n",
        "celsius = [0, 10, 25, 37, 100]\n",
        "\n",
        "\n",
        "fahrenheit = list(map(lambda c: (c * 9/5) + 32, celsius))\n",
        "\n",
        "print(fahrenheit)\n"
      ],
      "metadata": {
        "colab": {
          "base_uri": "https://localhost:8080/"
        },
        "id": "Mzkhzb2-24vf",
        "outputId": "c336783e-0137-4705-a1f0-c9d43c38ea9e"
      },
      "execution_count": 18,
      "outputs": [
        {
          "output_type": "stream",
          "name": "stdout",
          "text": [
            "[32.0, 50.0, 77.0, 98.6, 212.0]\n"
          ]
        }
      ]
    },
    {
      "cell_type": "markdown",
      "source": [
        "10.Create a Python program that uses filter() to remove all the vowels from a given string\n",
        "\n"
      ],
      "metadata": {
        "id": "JKLeJqAu59Ey"
      }
    },
    {
      "cell_type": "code",
      "source": [
        "def remove_vowels(s):\n",
        "    vowels = \"aeiouAEIOU\"\n",
        "    return \"\".join(filter(lambda ch: ch not in vowels, s))\n",
        "text = \"Hello World, Python is Fun!\"\n",
        "print(remove_vowels(text))\n"
      ],
      "metadata": {
        "colab": {
          "base_uri": "https://localhost:8080/"
        },
        "id": "KKNJFgUM6BA9",
        "outputId": "a6381620-9738-47ed-c349-8b82ee4fadea"
      },
      "execution_count": 19,
      "outputs": [
        {
          "output_type": "stream",
          "name": "stdout",
          "text": [
            "Hll Wrld, Pythn s Fn!\n"
          ]
        }
      ]
    },
    {
      "cell_type": "markdown",
      "source": [
        "Imagine an accounting routine used in a book shop. It works on a list with sublists, which look like this:\n",
        "\n",
        "\n",
        "\n",
        "\n",
        "\n",
        "\n",
        "\n",
        "Write a Python program, which returns a list with 2-tuples. Each tuple consists of the order number and the\n",
        "product of the price per item and the quantity. The product should be increased by 10,- € if the value of the\n",
        "order is smaller than 100,00 €."
      ],
      "metadata": {
        "id": "4KztX98L67zW"
      }
    },
    {
      "cell_type": "code",
      "source": [
        "def calculate_orders(orders):\n",
        "\n",
        "    result = []\n",
        "    for order in orders:\n",
        "        order_number, price, quantity = order\n",
        "        total = price * quantity\n",
        "        if total < 100:\n",
        "            total += 10   # add surcharge\n",
        "        result.append((order_number, total))\n",
        "    return result\n",
        "\n",
        "\n",
        "# Example usage\n",
        "orders_list = [\n",
        "    [34587, 4.95, 4],\n",
        "    [98762, 14.95, 5],\n",
        "    [77226, 24.95, 3],\n",
        "    [88112, 3.95, 3]\n",
        "]\n",
        "\n",
        "print(calculate_orders(orders_list))\n"
      ],
      "metadata": {
        "colab": {
          "base_uri": "https://localhost:8080/"
        },
        "id": "kif9bwHw693m",
        "outputId": "dc54890a-74a2-4bfe-a5c1-c431d058654c"
      },
      "execution_count": 20,
      "outputs": [
        {
          "output_type": "stream",
          "name": "stdout",
          "text": [
            "[(34587, 29.8), (98762, 84.75), (77226, 84.85), (88112, 21.85)]\n"
          ]
        }
      ]
    }
  ]
}